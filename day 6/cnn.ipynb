{
  "nbformat": 4,
  "nbformat_minor": 0,
  "metadata": {
    "colab": {
      "provenance": [],
      "gpuType": "T4"
    },
    "kernelspec": {
      "name": "python3",
      "display_name": "Python 3"
    },
    "language_info": {
      "name": "python"
    },
    "accelerator": "GPU"
  },
  "cells": [
    {
      "cell_type": "code",
      "execution_count": 54,
      "metadata": {
        "id": "J94CfdSe31ab"
      },
      "outputs": [],
      "source": [
        "import torch\n",
        "import torchvision\n",
        "import matplotlib.pyplot as plt\n",
        "import numpy as np\n",
        "import torch.nn as nn\n",
        "import torch.nn.functional as F\n",
        "from torchvision.transforms import transforms"
      ]
    },
    {
      "cell_type": "code",
      "source": [
        "device=torch.device('cuda' if torch.cuda.is_available() else 'cpu')"
      ],
      "metadata": {
        "id": "0doK26ss5cNy"
      },
      "execution_count": 55,
      "outputs": []
    },
    {
      "cell_type": "code",
      "source": [
        "epochs=10\n",
        "batch=4\n",
        "lr=0.01"
      ],
      "metadata": {
        "id": "0mWHzMXb5vL2"
      },
      "execution_count": 56,
      "outputs": []
    },
    {
      "cell_type": "code",
      "source": [
        "transform=transforms.Compose([transforms.ToTensor(),transforms.Normalize((0.5,0.5,0.5),(0.5,0.5,0.5))])"
      ],
      "metadata": {
        "id": "_mv2bmZa57fO"
      },
      "execution_count": 57,
      "outputs": []
    },
    {
      "cell_type": "code",
      "source": [
        "train_d=torchvision.datasets.CIFAR10(root='./data',train=True,download=True,transform=transform)\n",
        "test_d=torchvision.datasets.CIFAR10(root='./data',train=False,download=True,transform=transform)\n",
        "\n",
        "train_load=torch.utils.data.DataLoader(train_d,batch_size=batch,shuffle=True)\n",
        "test_load=torch.utils.data.DataLoader(test_d,batch_size=batch,shuffle=False)"
      ],
      "metadata": {
        "id": "fFZ0XCET6uuO"
      },
      "execution_count": 58,
      "outputs": []
    },
    {
      "cell_type": "code",
      "source": [
        "class convNet(nn.Module):\n",
        "  def __init__(self):\n",
        "    super(convNet,self).__init__()\n",
        "    self.conv1=nn.Conv2d(3,6,5)\n",
        "    self.pool=nn.MaxPool2d(2,2)\n",
        "    self.conv2=nn.Conv2d(6,16,5)\n",
        "    self.fc1=nn.Linear(16*5*5,120)\n",
        "    self.fc2=nn.Linear(120,84)\n",
        "    self.fc3=nn.Linear(84,10)\n",
        "\n",
        "  def forward(self,x):\n",
        "    x=self.pool(F.relu(self.conv1(x)))\n",
        "    x=self.pool(F.relu(self.conv2(x)))\n",
        "    x=x.view(-1,16*5*5)\n",
        "    x=F.relu(self.fc1(x))\n",
        "    x=F.relu(self.fc2(x))\n",
        "    x=self.fc3(x)\n",
        "    return x"
      ],
      "metadata": {
        "id": "i7NGyBWiMZrF"
      },
      "execution_count": 59,
      "outputs": []
    },
    {
      "cell_type": "code",
      "source": [],
      "metadata": {
        "id": "tEP4C4FaIy0W"
      },
      "execution_count": 59,
      "outputs": []
    },
    {
      "cell_type": "code",
      "source": [
        "model=convNet().to(device)\n",
        "c=nn.CrossEntropyLoss()\n",
        "opt=torch.optim.SGD(model.parameters(),lr=lr)\n",
        "\n",
        "n_total_step=len(train_load)\n",
        "for epoch in range(epochs):\n",
        "  for i,(img,label) in enumerate(train_load):\n",
        "    img=img.to(device)\n",
        "    label=label.to(device)\n",
        "\n",
        "    #Frwd\n",
        "    output=model(img)\n",
        "    loss=c(output,label)\n",
        "\n",
        "    #Back\n",
        "    opt.zero_grad()\n",
        "    loss.backward()\n",
        "    opt.step()\n",
        "\n",
        "    if (i+1)%2000==0:\n",
        "      print(f'Epoch [{epoch+1}/{epochs}], Step [{i+1}/{n_total_step}], Loss: {loss.item():.4f}')\n",
        "\n",
        "    correct = 0\n",
        "    total = 0\n",
        "\n",
        "    _, predicted = torch.max(output.data, 1)\n",
        "    total += label.size(0)\n",
        "    correct += (predicted == label).sum().item()\n",
        "    if (i + 1) % 2000 == 0:\n",
        "      acc = 100 * correct / total\n",
        "      print(f'Accuracy: {acc:.2f}%')\n",
        "      correct = 0\n",
        "      total = 0\n",
        "\n",
        "\n"
      ],
      "metadata": {
        "colab": {
          "base_uri": "https://localhost:8080/"
        },
        "id": "iFHOQhHvI3nn",
        "outputId": "974f2de2-c8db-46a8-c689-a944f582d065"
      },
      "execution_count": 71,
      "outputs": [
        {
          "output_type": "stream",
          "name": "stdout",
          "text": [
            "Epoch [1/10], Step [2000/12500], Loss: 1.9526\n",
            "Accuracy: 0.00%\n",
            "Epoch [1/10], Step [4000/12500], Loss: 2.5002\n",
            "Accuracy: 0.00%\n",
            "Epoch [1/10], Step [6000/12500], Loss: 2.1142\n",
            "Accuracy: 0.00%\n",
            "Epoch [1/10], Step [8000/12500], Loss: 1.0270\n",
            "Accuracy: 50.00%\n",
            "Epoch [1/10], Step [10000/12500], Loss: 1.7416\n",
            "Accuracy: 25.00%\n",
            "Epoch [1/10], Step [12000/12500], Loss: 0.7494\n",
            "Accuracy: 100.00%\n",
            "Epoch [2/10], Step [2000/12500], Loss: 1.4356\n",
            "Accuracy: 25.00%\n",
            "Epoch [2/10], Step [4000/12500], Loss: 1.1974\n",
            "Accuracy: 50.00%\n",
            "Epoch [2/10], Step [6000/12500], Loss: 0.5338\n",
            "Accuracy: 75.00%\n",
            "Epoch [2/10], Step [8000/12500], Loss: 1.4682\n",
            "Accuracy: 75.00%\n",
            "Epoch [2/10], Step [10000/12500], Loss: 0.6849\n",
            "Accuracy: 75.00%\n",
            "Epoch [2/10], Step [12000/12500], Loss: 1.0463\n",
            "Accuracy: 75.00%\n",
            "Epoch [3/10], Step [2000/12500], Loss: 0.8236\n",
            "Accuracy: 75.00%\n",
            "Epoch [3/10], Step [4000/12500], Loss: 1.3925\n",
            "Accuracy: 25.00%\n",
            "Epoch [3/10], Step [6000/12500], Loss: 0.3447\n",
            "Accuracy: 75.00%\n",
            "Epoch [3/10], Step [8000/12500], Loss: 0.6483\n",
            "Accuracy: 100.00%\n",
            "Epoch [3/10], Step [10000/12500], Loss: 1.3193\n",
            "Accuracy: 50.00%\n",
            "Epoch [3/10], Step [12000/12500], Loss: 1.3233\n",
            "Accuracy: 25.00%\n",
            "Epoch [4/10], Step [2000/12500], Loss: 0.6234\n",
            "Accuracy: 100.00%\n",
            "Epoch [4/10], Step [4000/12500], Loss: 1.1632\n",
            "Accuracy: 50.00%\n",
            "Epoch [4/10], Step [6000/12500], Loss: 0.8089\n",
            "Accuracy: 50.00%\n",
            "Epoch [4/10], Step [8000/12500], Loss: 0.6835\n",
            "Accuracy: 100.00%\n",
            "Epoch [4/10], Step [10000/12500], Loss: 2.4196\n",
            "Accuracy: 0.00%\n",
            "Epoch [4/10], Step [12000/12500], Loss: 0.2097\n",
            "Accuracy: 100.00%\n",
            "Epoch [5/10], Step [2000/12500], Loss: 0.8205\n",
            "Accuracy: 75.00%\n",
            "Epoch [5/10], Step [4000/12500], Loss: 1.1503\n",
            "Accuracy: 25.00%\n",
            "Epoch [5/10], Step [6000/12500], Loss: 0.5665\n",
            "Accuracy: 75.00%\n",
            "Epoch [5/10], Step [8000/12500], Loss: 0.7024\n",
            "Accuracy: 50.00%\n",
            "Epoch [5/10], Step [10000/12500], Loss: 0.8713\n",
            "Accuracy: 75.00%\n",
            "Epoch [5/10], Step [12000/12500], Loss: 0.8184\n",
            "Accuracy: 50.00%\n",
            "Epoch [6/10], Step [2000/12500], Loss: 1.4549\n",
            "Accuracy: 50.00%\n",
            "Epoch [6/10], Step [4000/12500], Loss: 0.3028\n",
            "Accuracy: 75.00%\n",
            "Epoch [6/10], Step [6000/12500], Loss: 2.7245\n",
            "Accuracy: 25.00%\n",
            "Epoch [6/10], Step [8000/12500], Loss: 0.6749\n",
            "Accuracy: 75.00%\n",
            "Epoch [6/10], Step [10000/12500], Loss: 1.5904\n",
            "Accuracy: 50.00%\n",
            "Epoch [6/10], Step [12000/12500], Loss: 1.9006\n",
            "Accuracy: 50.00%\n",
            "Epoch [7/10], Step [2000/12500], Loss: 0.3423\n",
            "Accuracy: 100.00%\n",
            "Epoch [7/10], Step [4000/12500], Loss: 1.4973\n",
            "Accuracy: 25.00%\n",
            "Epoch [7/10], Step [6000/12500], Loss: 0.6109\n",
            "Accuracy: 100.00%\n",
            "Epoch [7/10], Step [8000/12500], Loss: 1.1084\n",
            "Accuracy: 50.00%\n",
            "Epoch [7/10], Step [10000/12500], Loss: 1.2444\n",
            "Accuracy: 50.00%\n",
            "Epoch [7/10], Step [12000/12500], Loss: 0.5966\n",
            "Accuracy: 75.00%\n",
            "Epoch [8/10], Step [2000/12500], Loss: 0.6740\n",
            "Accuracy: 100.00%\n",
            "Epoch [8/10], Step [4000/12500], Loss: 1.1207\n",
            "Accuracy: 75.00%\n",
            "Epoch [8/10], Step [6000/12500], Loss: 0.7036\n",
            "Accuracy: 75.00%\n",
            "Epoch [8/10], Step [8000/12500], Loss: 0.5540\n",
            "Accuracy: 75.00%\n",
            "Epoch [8/10], Step [10000/12500], Loss: 1.1264\n",
            "Accuracy: 75.00%\n",
            "Epoch [8/10], Step [12000/12500], Loss: 1.3779\n",
            "Accuracy: 50.00%\n",
            "Epoch [9/10], Step [2000/12500], Loss: 1.2033\n",
            "Accuracy: 25.00%\n",
            "Epoch [9/10], Step [4000/12500], Loss: 0.0544\n",
            "Accuracy: 100.00%\n",
            "Epoch [9/10], Step [6000/12500], Loss: 2.1778\n",
            "Accuracy: 25.00%\n",
            "Epoch [9/10], Step [8000/12500], Loss: 0.5963\n",
            "Accuracy: 75.00%\n",
            "Epoch [9/10], Step [10000/12500], Loss: 0.3047\n",
            "Accuracy: 75.00%\n",
            "Epoch [9/10], Step [12000/12500], Loss: 0.9396\n",
            "Accuracy: 75.00%\n",
            "Epoch [10/10], Step [2000/12500], Loss: 1.4189\n",
            "Accuracy: 50.00%\n",
            "Epoch [10/10], Step [4000/12500], Loss: 0.6917\n",
            "Accuracy: 75.00%\n",
            "Epoch [10/10], Step [6000/12500], Loss: 0.9899\n",
            "Accuracy: 50.00%\n",
            "Epoch [10/10], Step [8000/12500], Loss: 1.1805\n",
            "Accuracy: 50.00%\n",
            "Epoch [10/10], Step [10000/12500], Loss: 0.9254\n",
            "Accuracy: 75.00%\n",
            "Epoch [10/10], Step [12000/12500], Loss: 0.2387\n",
            "Accuracy: 100.00%\n"
          ]
        }
      ]
    }
  ]
}