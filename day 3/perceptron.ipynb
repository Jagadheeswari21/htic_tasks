{
  "nbformat": 4,
  "nbformat_minor": 0,
  "metadata": {
    "colab": {
      "provenance": []
    },
    "kernelspec": {
      "name": "python3",
      "display_name": "Python 3"
    },
    "language_info": {
      "name": "python"
    }
  },
  "cells": [
    {
      "cell_type": "code",
      "execution_count": null,
      "metadata": {
        "colab": {
          "base_uri": "https://localhost:8080/"
        },
        "id": "0KphkLhNtcLQ",
        "outputId": "5c4d83db-9bcf-49f2-89c6-972767c5ef76"
      },
      "outputs": [
        {
          "output_type": "stream",
          "name": "stdout",
          "text": [
            "0.19\n",
            "0\n"
          ]
        }
      ],
      "source": [
        "\n",
        "x_input=[0.1,0.3,0.4]\n",
        "weights=[0.1,0.2,0.3]\n",
        "thres=0.5\n",
        "\n",
        "def step_func(weighted_sum):\n",
        "    if weighted_sum > thres:\n",
        "        return 1\n",
        "    else:\n",
        "        return 0\n",
        "\n",
        "\n",
        "def perceptron():\n",
        "    sum=0\n",
        "    for x,w in zip(x_input,weights):\n",
        "      sum += x*w\n",
        "    print(sum)\n",
        "    return step_func(sum)\n",
        "\n",
        "output=perceptron()\n",
        "print(output)\n"
      ]
    },
    {
      "cell_type": "code",
      "source": [],
      "metadata": {
        "id": "ipQkFHFrudnJ"
      },
      "execution_count": null,
      "outputs": []
    }
  ]
}