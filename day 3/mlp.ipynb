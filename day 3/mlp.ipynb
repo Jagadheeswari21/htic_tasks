{
  "nbformat": 4,
  "nbformat_minor": 0,
  "metadata": {
    "colab": {
      "provenance": []
    },
    "kernelspec": {
      "name": "python3",
      "display_name": "Python 3"
    },
    "language_info": {
      "name": "python"
    }
  },
  "cells": [
    {
      "cell_type": "code",
      "execution_count": null,
      "metadata": {
        "colab": {
          "base_uri": "https://localhost:8080/"
        },
        "id": "zk57GlErt9Sp",
        "outputId": "2d8fbdf1-808c-4735-ea9e-7900edd12e73"
      },
      "outputs": [
        {
          "output_type": "stream",
          "name": "stdout",
          "text": [
            "Step 0-Loss: 0.5000\n",
            "Step 100-Loss: 0.0670\n",
            "Step 200-Loss: 0.0090\n",
            "Step 300-Loss: 0.0012\n",
            "Step 400-Loss: 0.0002\n"
          ]
        }
      ],
      "source": [
        "#MLP (Manually)\n",
        "import numpy as np\n",
        "\n",
        "x=np.array([[1],[4],[3],[2]])\n",
        "y=np.array([[1]])\n",
        "\n",
        "input_size=len(x)\n",
        "hidden_size=2\n",
        "output_size=1\n",
        "lr=0.01\n",
        "\n",
        "w1=np.random.randn(hidden_size,input_size)\n",
        "b1=np.zeros((hidden_size,1))\n",
        "\n",
        "w2=np.random.randn(output_size,hidden_size)\n",
        "b2=np.zeros((output_size,1))\n",
        "\n",
        "def relu(z):\n",
        "    return np.maximum(0,z)\n",
        "\n",
        "def relu_deriv(z):\n",
        "    return (z>0).astype(float)\n",
        "\n",
        "#Frwd Propagation\n",
        "for i in range(500):\n",
        "    h1=np.dot(w1,x)+b1\n",
        "    a1=relu(h1)\n",
        "\n",
        "    h2=np.dot(w2,a1)+b2\n",
        "    y_pred=h2\n",
        "\n",
        "    loss=0.5*(y_pred-y)**2\n",
        "\n",
        "    #Back Propagation\n",
        "    dh2 = y_pred - y\n",
        "    dw2 = dh2 @ a1.T\n",
        "    db2 = dh2\n",
        "\n",
        "    da1 = w2.T @ dh2\n",
        "    dh1 = da1 * relu_deriv(h1)\n",
        "    dw1 = dh1 @ x.T\n",
        "    db1 = dh1\n",
        "\n",
        "\n",
        "    w2=w2-lr*dw2\n",
        "    w1=w1-lr*dw1\n",
        "\n",
        "    b1 = b1 - lr * db1\n",
        "    b2 = b2 - lr * db2\n",
        "\n",
        "\n",
        "    if i % 100 == 0:\n",
        "        print(f\"Step {i}-Loss: {loss.item():.4f}\")"
      ]
    },
    {
      "cell_type": "code",
      "source": [
        "import matplotlib.pyplot as plt\n",
        "from sklearn.datasets import fetch_openml\n",
        "from sklearn.model_selection import train_test_split\n",
        "from sklearn.neural_network import MLPClassifier\n",
        "from sklearn.metrics import mean_squared_error"
      ],
      "metadata": {
        "id": "mvf1eoqKuo12"
      },
      "execution_count": null,
      "outputs": []
    },
    {
      "cell_type": "code",
      "source": [
        "X,y = fetch_openml(\"mnist_784\",version=1, return_X_y=True, as_frame=False)\n",
        "X=X/255.0"
      ],
      "metadata": {
        "id": "gBBQ56_evfR0"
      },
      "execution_count": null,
      "outputs": []
    },
    {
      "cell_type": "code",
      "source": [
        "X_train,X_test,y_train,y_test=train_test_split(X,y,random_state=0,test_size=0.7)"
      ],
      "metadata": {
        "id": "SYB78AMHvmM_"
      },
      "execution_count": null,
      "outputs": []
    },
    {
      "cell_type": "code",
      "source": [
        "mlp=MLPClassifier(hidden_layer_sizes=(64,32),activation='relu', max_iter=100)"
      ],
      "metadata": {
        "id": "J_F08m51vsnF"
      },
      "execution_count": null,
      "outputs": []
    },
    {
      "cell_type": "code",
      "source": [
        "mlp.fit(X_train, y_train)\n",
        "print(\"Train %f\"%mlp.score(X_train,y_train))\n",
        "print(\"test %f\"%mlp.score(X_test,y_test))"
      ],
      "metadata": {
        "colab": {
          "base_uri": "https://localhost:8080/"
        },
        "id": "bkTSq98fvzgm",
        "outputId": "6fb47731-3d30-49c0-d52a-7faa1fb913cf"
      },
      "execution_count": null,
      "outputs": [
        {
          "output_type": "stream",
          "name": "stdout",
          "text": [
            "Train 1.000000\n",
            "test 0.961082\n"
          ]
        }
      ]
    },
    {
      "cell_type": "code",
      "source": [
        "print(\"Train %f\"%mlp.score(X_train,y_train))\n",
        "print(\"test %f\"%mlp.score(X_test,y_test))"
      ],
      "metadata": {
        "colab": {
          "base_uri": "https://localhost:8080/"
        },
        "id": "7PTFqVyLwHWh",
        "outputId": "6e495c27-eafd-415a-a797-a44ca04a2ba2"
      },
      "execution_count": null,
      "outputs": [
        {
          "output_type": "stream",
          "name": "stdout",
          "text": [
            "Train 1.000000\n",
            "test 0.961082\n"
          ]
        }
      ]
    },
    {
      "cell_type": "code",
      "source": [
        "y_pred=mlp.predict(X_test)\n",
        "loss=mean_squared_error(y_pred,y_test)\n",
        "print(loss)\n",
        "plt.plot(mlp.loss_curve_)\n",
        "plt.ylabel(\"Loss\")\n",
        "plt.xlabel(\"Epochs\")"
      ],
      "metadata": {
        "colab": {
          "base_uri": "https://localhost:8080/",
          "height": 484
        },
        "id": "2u-Ofvf_wKgj",
        "outputId": "aa8a57e5-0687-4571-f4c0-5947ffda27a3"
      },
      "execution_count": null,
      "outputs": [
        {
          "output_type": "stream",
          "name": "stdout",
          "text": [
            "0.7057755102040816\n"
          ]
        },
        {
          "output_type": "execute_result",
          "data": {
            "text/plain": [
              "Text(0.5, 0, 'Epochs')"
            ]
          },
          "metadata": {},
          "execution_count": 28
        },
        {
          "output_type": "display_data",
          "data": {
            "text/plain": [
              "<Figure size 640x480 with 1 Axes>"
            ],
            "image/png": "[encoded data removed]"
          },
          "metadata": {}
        }
      ]
    }
  ]
}