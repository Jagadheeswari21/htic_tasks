{
 "cells": [
  {
   "cell_type": "markdown",
   "id": "f8405459",
   "metadata": {},
   "source": [
    "PyTorch basics"
   ]
  },
  {
   "cell_type": "code",
   "execution_count": null,
   "id": "58d28c9f",
   "metadata": {},
   "outputs": [],
   "source": [
    "import torch"
   ]
  },
  {
   "cell_type": "code",
   "execution_count": 3,
   "id": "dbf9478c",
   "metadata": {},
   "outputs": [
    {
     "name": "stdout",
     "output_type": "stream",
     "text": [
      "tensor([1, 2, 3, 4, 5])\n"
     ]
    }
   ],
   "source": [
    "x= torch.tensor([1, 2, 3, 4, 5])\n",
    "print(x)"
   ]
  },
  {
   "cell_type": "code",
   "execution_count": 4,
   "id": "5f6e7c5b",
   "metadata": {},
   "outputs": [
    {
     "name": "stdout",
     "output_type": "stream",
     "text": [
      "tensor([[0.6177, 0.6605, 0.0547],\n",
      "        [0.1368, 0.2694, 0.3030],\n",
      "        [0.3097, 0.5241, 0.6813],\n",
      "        [0.1202, 0.5017, 0.5737],\n",
      "        [0.4612, 0.3973, 0.2148]])\n"
     ]
    }
   ],
   "source": [
    "y=torch.rand(5,3)\n",
    "print(y)"
   ]
  },
  {
   "cell_type": "code",
   "execution_count": 9,
   "id": "ed7b7a81",
   "metadata": {},
   "outputs": [
    {
     "name": "stdout",
     "output_type": "stream",
     "text": [
      "torch.Size([5])\n",
      "torch.Size([5, 3])\n"
     ]
    }
   ],
   "source": [
    "print(x.size())\n",
    "print(y.shape)"
   ]
  },
  {
   "cell_type": "code",
   "execution_count": 15,
   "id": "a259b145",
   "metadata": {},
   "outputs": [
    {
     "name": "stdout",
     "output_type": "stream",
     "text": [
      "torch.int64\n"
     ]
    }
   ],
   "source": [
    "print(x.dtype)"
   ]
  },
  {
   "cell_type": "code",
   "execution_count": 20,
   "id": "bda08a8a",
   "metadata": {},
   "outputs": [
    {
     "name": "stdout",
     "output_type": "stream",
     "text": [
      "tensor([[0.6087, 0.4406, 0.9206, 0.9186],\n",
      "        [0.1617, 0.3800, 0.5753, 0.7857],\n",
      "        [0.0023, 0.2187, 0.2970, 0.1680],\n",
      "        [0.9113, 0.7686, 0.4653, 0.1278]])\n",
      "tensor([0.9206, 0.5753, 0.2970, 0.4653])\n"
     ]
    }
   ],
   "source": [
    "b=torch.rand(4,4)\n",
    "print(b[:,:])\n",
    "print(b[:,2])"
   ]
  },
  {
   "cell_type": "code",
   "execution_count": 22,
   "id": "8da01a2c",
   "metadata": {},
   "outputs": [
    {
     "name": "stdout",
     "output_type": "stream",
     "text": [
      "[1. 1. 1. 1. 1. 1.]\n",
      "<class 'numpy.ndarray'>\n"
     ]
    }
   ],
   "source": [
    "c=torch.ones(6)\n",
    "c=c.numpy()\n",
    "print(c)\n",
    "print(type(c))"
   ]
  },
  {
   "cell_type": "code",
   "execution_count": 23,
   "id": "552b1a49",
   "metadata": {},
   "outputs": [
    {
     "name": "stdout",
     "output_type": "stream",
     "text": [
      "tensor([2, 4, 6])\n",
      "tensor([0, 0, 0])\n"
     ]
    }
   ],
   "source": [
    "e= torch.tensor([1, 2, 3])\n",
    "f=torch.tensor([1, 2, 3])\n",
    "print(torch.add(e, f))\n",
    "print(torch.sub(e, f))"
   ]
  },
  {
   "cell_type": "markdown",
   "id": "69f962f8",
   "metadata": {},
   "source": [
    "Auto_grad"
   ]
  },
  {
   "cell_type": "code",
   "execution_count": 36,
   "id": "ec409db4",
   "metadata": {},
   "outputs": [
    {
     "name": "stdout",
     "output_type": "stream",
     "text": [
      "tensor([4.4238, 4.7643, 4.3329, 4.7284, 4.7426], grad_fn=<AddBackward0>)\n",
      "<AddBackward0 object at 0x772635b3bc40>\n",
      "tensor([39.1399, 45.3965, 37.5481, 44.7159, 44.9854], grad_fn=<MulBackward0>)\n",
      "tensor(42.3572, grad_fn=<MeanBackward0>)\n",
      "tensor([3.5390, 3.8114, 3.4663, 3.7827, 3.7941])\n"
     ]
    }
   ],
   "source": [
    "x=torch.rand(5,requires_grad=True)\n",
    "y=x+4\n",
    "print(y)\n",
    "print(y.grad_fn)\n",
    "z=y*y*2\n",
    "print(z)\n",
    "z=z.mean()\n",
    "print(z)\n",
    "\n",
    "#Backward\n",
    "z.backward()\n",
    "print(x.grad)\n"
   ]
  },
  {
   "cell_type": "markdown",
   "id": "3b394f43",
   "metadata": {},
   "source": [
    "Image to Tensor"
   ]
  },
  {
   "cell_type": "code",
   "execution_count": 2,
   "id": "285ebf23",
   "metadata": {},
   "outputs": [
    {
     "name": "stdout",
     "output_type": "stream",
     "text": [
      "tensor([[[0.8157, 0.8196, 0.8235,  ..., 0.3804, 0.3843, 0.3922],\n",
      "         [0.8157, 0.8196, 0.8235,  ..., 0.4000, 0.4000, 0.4039],\n",
      "         [0.8157, 0.8157, 0.8196,  ..., 0.4275, 0.4235, 0.4235],\n",
      "         ...,\n",
      "         [0.0275, 0.0627, 0.0745,  ..., 0.1020, 0.1020, 0.0980],\n",
      "         [0.0235, 0.0431, 0.0627,  ..., 0.1020, 0.1020, 0.1020],\n",
      "         [0.0275, 0.0353, 0.0588,  ..., 0.1059, 0.1059, 0.1020]]])\n"
     ]
    }
   ],
   "source": [
    "import cv2\n",
    "from torchvision.transforms import transforms\n",
    "\n",
    "\n",
    "img=cv2.imread('/home/endoai/Desktop/intern task/sample.jpeg')\n",
    "img=cv2.cvtColor(img,cv2.COLOR_RGB2GRAY)\n",
    "\n",
    "transform = transforms.Compose([transforms.ToTensor()])\n",
    "img_tensor = transform(img)\n",
    "print(img_tensor)"
   ]
  },
  {
   "cell_type": "markdown",
   "id": "92f86373",
   "metadata": {},
   "source": [
    "uint8 to float32"
   ]
  },
  {
   "cell_type": "code",
   "execution_count": 13,
   "id": "e4b61092",
   "metadata": {},
   "outputs": [
    {
     "name": "stdout",
     "output_type": "stream",
     "text": [
      "tensor([1, 2, 3, 4, 5, 6], dtype=torch.uint8)\n",
      "torch.uint8\n",
      "tensor([1., 2., 3., 4., 5., 6.])\n",
      "torch.float32\n"
     ]
    }
   ],
   "source": [
    "import numpy as np\n",
    "import torch\n",
    "\n",
    "a=np.array([1,2,3,4,5,6],dtype=np.uint8)\n",
    "a_u = torch.from_numpy(a)\n",
    "print(a_u)   \n",
    "print(a_u.dtype)\n",
    "\n",
    "a_f = a_u.to(torch.float32)\n",
    "print(a_f)\n",
    "print(a_f.dtype)\n"
   ]
  },
  {
   "cell_type": "code",
   "execution_count": 9,
   "id": "e7948fc8",
   "metadata": {},
   "outputs": [
    {
     "name": "stdout",
     "output_type": "stream",
     "text": [
      "tensor([[1, 1, 1],\n",
      "        [2, 2, 2],\n",
      "        [3, 3, 3],\n",
      "        [4, 4, 4]])\n",
      "tensor([[10, 20, 30],\n",
      "        [10, 20, 30],\n",
      "        [10, 20, 30],\n",
      "        [10, 20, 30]])\n"
     ]
    }
   ],
   "source": [
    "import torch\n",
    "\n",
    "x = torch.tensor([1, 2,3,4])\n",
    "y = torch.tensor([10, 20,30])\n",
    "\n",
    "\n",
    "X, Y = torch.meshgrid(x, y)\n",
    "print(X)\n",
    "print(Y)"
   ]
  }
 ],
 "metadata": {
  "kernelspec": {
   "display_name": "virtual",
   "language": "python",
   "name": "python3"
  },
  "language_info": {
   "codemirror_mode": {
    "name": "ipython",
    "version": 3
   },
   "file_extension": ".py",
   "mimetype": "text/x-python",
   "name": "python",
   "nbconvert_exporter": "python",
   "pygments_lexer": "ipython3",
   "version": "3.12.3"
  }
 },
 "nbformat": 4,
 "nbformat_minor": 5
}
